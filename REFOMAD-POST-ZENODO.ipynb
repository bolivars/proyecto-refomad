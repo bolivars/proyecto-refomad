{
 "cells": [
  {
   "attachments": {},
   "cell_type": "markdown",
   "metadata": {},
   "source": [
    "****\n",
    "# **PROYECTO REFOMAD:**\n",
    "##### SCRIPT PARA SUBIR EL CONJUNTO DE DATOS A ZENODO\n",
    "****"
   ]
  },
  {
   "attachments": {},
   "cell_type": "markdown",
   "metadata": {},
   "source": [
    "Este script se utiliza para subir al repositorio Zenodo el conjunto de datos generado para el proyecto REFOMAD. Para ello, se hace uso de la nueva REST API de Zenodo (más información en https://developers.zenodo.org/)."
   ]
  },
  {
   "cell_type": "code",
   "execution_count": 1,
   "metadata": {},
   "outputs": [],
   "source": [
    "import requests # para hacer peticiones HTTP\n",
    "import json # para transformar JSON en diccionarios de Python"
   ]
  },
  {
   "attachments": {},
   "cell_type": "markdown",
   "metadata": {},
   "source": [
    "En primer lugar, definimos algunas variables que van a ser de utilidad a la hora de llamar a la REST API de Zenodo."
   ]
  },
  {
   "cell_type": "code",
   "execution_count": 2,
   "metadata": {},
   "outputs": [],
   "source": [
    "access_token = access_token = 'sz3OL7ZjAfXDk36WCtoi59y03VMBRGRfnsiUfPY7kbWPd6E0SUWQBporBira' # token personal para acceder a la API de Zenodo\n",
    "\n",
    "metadata = {\n",
    "    'metadata': {\n",
    "        \n",
    "        'title': 'Renta media por persona y nivel de formación en los 21 distritos del Ayuntamiento de Madrid (2016-2019)',\n",
    "\n",
    "        'upload_type': 'dataset',\n",
    "\n",
    "        'description': \"\"\" Este conjunto de datos ha sido utilizado en el proyecto REFOMAD. Incluye información sobre la renta media\n",
    "                           por persona, el nivel de formación educativa de los residentes mayores de 25 años y el número de centros educativos\n",
    "                           en cada uno de los 21 distritos del Ayuntamiento de Madrid durante los años 2016-2019. El nivel de formación tiene 6\n",
    "                           niveles: no sabe leer ni escribir, bachiller elemental, formación profesional, titulados medios, estudios universitarios\n",
    "                           y nivel de estudios no consta. Los centros educativos se clasifican también en 6 niveles: escuelas infantiles municipales,\n",
    "                           escuelas infantiles públicas de la Comunidad Autónoma de Madrid, escuelas infantiles privadas, colegios públicos infantil/primaria,\n",
    "                           institutos públicos de educación secundaria y colegios privados infantil/primaria. Los datos de renta fueron proporcionados\n",
    "                           por el INE, los datos sobre la formación fueron obtenidos mediante encuestas propias realizadas por el equipo REFOMAD y los\n",
    "                           datos de los centros educativos fueron solicitados al portal de datos abiertos del Ayuntamiento de Madrid. Los datos están\n",
    "                           en formato XLSX y tienen un tamaño de 17 kB. Los datos fueron prepreocesados y curados utilizando herramientas de software\n",
    "                           libre como NumPy y pandas en Python versión 3.10.6.             \n",
    "                        \"\"\" ,\n",
    "\n",
    "        'creators': [{'name': 'Sergio Bolívar Gómez', 'affiliation': 'Universidad de Cantabria'},\n",
    "                     {'name': 'Juan José Velasco Horcajada', 'affiliation': 'Universidad de Cantabria'},\n",
    "                     {'name': 'María Peña Fernández', 'affiliation': 'Universidad de Cantabria'},\n",
    "                     {'name': 'Samuel Laso Saro', 'affiliation': 'Universidad de Cantabria'},\n",
    "                     {'name': 'Ignacio de la Torre Cubillo', 'affiliation': 'Universidad Internacional Menénedez Pelayo'},\n",
    "                     {'name': 'Mónica Alcantar Martínez', 'affiliation': 'Universidad de Cantabria'}],\n",
    "\n",
    "        'version': '1.0.0',\n",
    "\n",
    "        'language': 'spa',\n",
    "\n",
    "        'access_right': 'open',\n",
    "\n",
    "        'license': 'cc-by',\n",
    "\n",
    "        'keywords': [\"renta\", \"formación\", \"educación\", \"Madrid\", \"distrito\", \"datos\", \"análisis de datos\", \"política\", \"nivel de estudios\", \"estudios universitarios\",\n",
    "                     \"bachillerato\", \"formación profesional\", \"ESO\", \"titulados medios\", \"escuelas infantiles\", \"colegios\", \"institutos\", \"colegios privados\"],\n",
    "\n",
    "        'locations': [{\"lat\": 40.4168, \"lon\": -3.7038, \"place\": \"Centro\"}, \n",
    "                      {\"lat\": 40.3964, \"lon\": -3.6922, \"place\": \"Arganzuela\"}, \n",
    "                      {\"lat\": 40.3719, \"lon\": -3.7167, \"place\": \"Retiro\"}, \n",
    "                      {\"lat\": 40.3818, \"lon\": -3.6167, \"place\": \"Salamanca\"},\n",
    "                      {\"lat\": 40.4096, \"lon\": -3.6743, \"place\": \"Chamartín\"},\n",
    "                      {\"lat\": 40.4313, \"lon\": -3.6856, \"place\": \"Tetuán\"},\n",
    "                      {\"lat\": 40.4531, \"lon\": -3.6944, \"place\": \"Chamberí\"},\n",
    "                      {\"lat\": 40.4168, \"lon\": -3.7167, \"place\": \"Ciudad Lineal\"},\n",
    "                      {\"lat\": 40.4148, \"lon\": -3.7236, \"place\": \"Fuencarral-El Pardo\"},\n",
    "                      {\"lat\": 40.5497, \"lon\": -3.6471, \"place\": \"Moncloa-Aravaca\"},\n",
    "                      {\"lat\": 40.4386, \"lon\": -3.7245, \"place\": \"Latina\"},\n",
    "                      {\"lat\": 40.3969, \"lon\": -3.6169, \"place\": \"Carabanchel\"},\n",
    "                      {\"lat\": 40.3573, \"lon\": -3.7813, \"place\": \"Usera\"},\n",
    "                      {\"lat\": 40.3538, \"lon\": -3.7155, \"place\": \"Villaverde\"},\n",
    "                      {\"lat\": 40.3095, \"lon\": -3.7339, \"place\": \"Villa de Vallecas\"},\n",
    "                      {\"lat\": 40.3322, \"lon\": -3.8667, \"place\": \"Vicálvaro\"},\n",
    "                      {\"lat\": 40.3831, \"lon\": -3.5667, \"place\": \"San Blas-Canillejas\"},\n",
    "                      {\"lat\": 40.4667, \"lon\": -3.5667, \"place\": \"Barajas\"},\n",
    "                      {\"lat\": 40.3742, \"lon\": -3.8567, \"place\": \"Hortaleza\"},\n",
    "                      {\"lat\": 40.4313, \"lon\": -3.7567, \"place\": \"Moratalaz\"},\n",
    "                      {\"lat\": 40.4457, \"lon\": -3.6285, \"place\": \"Puente de Vallecas\"}],\n",
    "                      \n",
    "        'contributors': [{'name': 'Sergio Bolívar Gómez', 'affiliation': 'Proyecto REFOMAD', 'type': 'DataManager'},\n",
    "                        {'name': 'Juan José Velasco Horcajada', 'affiliation': 'Proyecto REFOMAD', 'type': 'DataCurator'},\n",
    "                        {'name': 'María Peña Fernández', 'affiliation': 'Proyecto REFOMAD', 'type': 'ProjectManager'},\n",
    "                        {'name': 'Samuel Laso Saro', 'affiliation': 'Proyecto REFOMAD', 'type': 'ProjectMember'},\n",
    "                        {'name': 'Ignacio de la Torre Cubillo', 'affiliation': 'Proyecto REFOMAD', 'type': 'ProjectMember'},\n",
    "                        {'name': 'Mónica Alcantar Martínez', 'affiliation': 'Proyecto REFOMAD', 'type': 'ProjectMember'},\n",
    "                        {'name': 'Datos Abiertos del INE', 'affiliation': 'INE', 'type': 'DataCollector'},\n",
    "                        {'name': 'Portal de Datos Abiertos del Ayuntamiento de Madrid', 'affiliation': 'Ayuntamiento de Madrid', 'type': 'DataCollector'}],\n",
    "    }\n",
    "}\n",
    "\n",
    "headers = {\"Content-Type\": \"application/json\"} # cabecera para la llamada a la API\n",
    "\n",
    "params = {'access_token': access_token} # parámetros para la llamada a la API (sirve para autentificación)\n",
    "\n",
    "filename = \"refomad-data.xlsx\" # archivo que se quiere depositar en el repositorio\n",
    "\n",
    "path = \"data/%s\" % filename # ruta hasta el archivo anterior (la carpeta 'data' tiene que estar en el directorio de trabajo)"
   ]
  },
  {
   "attachments": {},
   "cell_type": "markdown",
   "metadata": {},
   "source": [
    "A continuación, hacemos un POST en la API de Zenodo para subir los metadatos."
   ]
  },
  {
   "cell_type": "code",
   "execution_count": 3,
   "metadata": {},
   "outputs": [
    {
     "name": "stdout",
     "output_type": "stream",
     "text": [
      "Los metadatos se han depositado correctamente en el repositorio de Zenodo. El ID del depósito es: 7542519\n"
     ]
    }
   ],
   "source": [
    "response = requests.post('https://zenodo.org/api/deposit/depositions', params=params, json=metadata, headers=headers) # petición POST a la API\n",
    "\n",
    "if response.status_code == 201:\n",
    "    data = json.loads(response.text)\n",
    "    deposition_id = data['id'] # número de depósito\n",
    "    print(f'Los metadatos se han depositado correctamente en el repositorio de Zenodo. El ID del depósito es: {deposition_id}')\n",
    "\n",
    "bucket_url = response.json()[\"links\"][\"bucket\"]"
   ]
  },
  {
   "attachments": {},
   "cell_type": "markdown",
   "metadata": {},
   "source": [
    "Una vez subidos lo metadatos, subimos el fichero que contiene el dataset. Para ello, hacemos un PUT al bucket link (ver documentación de la nueva API: https://developers.zenodo.org/#quickstart-upload)."
   ]
  },
  {
   "cell_type": "code",
   "execution_count": 4,
   "metadata": {},
   "outputs": [
    {
     "name": "stdout",
     "output_type": "stream",
     "text": [
      "El dataset se ha depositado correctamente en el repositorio de Zenodo. El ID del depósito es: 7542519\n"
     ]
    }
   ],
   "source": [
    "with open(path, \"rb\") as fp:\n",
    "    response = requests.put(\"%s/%s\" % (bucket_url, filename), data=fp, params=params,) # petición PUT al bucket link (según instrucciones de la nueva API)\n",
    "\n",
    "    if response.status_code == 200:\n",
    "        print(f'El dataset se ha depositado correctamente en el repositorio de Zenodo. El ID del depósito es: {deposition_id}')  "
   ]
  },
  {
   "attachments": {},
   "cell_type": "markdown",
   "metadata": {},
   "source": [
    "Finalmente, hacemos un POST para publicar el recurso y hacer que sea visible."
   ]
  },
  {
   "cell_type": "code",
   "execution_count": 6,
   "metadata": {},
   "outputs": [
    {
     "name": "stdout",
     "output_type": "stream",
     "text": [
      "El recurso se ha publicado correctamente en Zenodo. El DOI con el que se ha registrado es: https://doi.org/10.5281/zenodo.7542519\n"
     ]
    }
   ],
   "source": [
    "response = requests.post('https://zenodo.org/api/deposit/depositions/%s/actions/publish' % deposition_id, params={'access_token': access_token})\n",
    "\n",
    "if response.status_code == 202:\n",
    "    data = json.loads(response.text)\n",
    "    doi_url = data['doi_url'] # DOI del repositorio\n",
    "    print(f'El recurso se ha publicado correctamente en Zenodo. El DOI con el que se ha registrado es: {doi_url}')"
   ]
  }
 ],
 "metadata": {
  "kernelspec": {
   "display_name": "Python 3",
   "language": "python",
   "name": "python3"
  },
  "language_info": {
   "codemirror_mode": {
    "name": "ipython",
    "version": 3
   },
   "file_extension": ".py",
   "mimetype": "text/x-python",
   "name": "python",
   "nbconvert_exporter": "python",
   "pygments_lexer": "ipython3",
   "version": "3.10.6 (main, Nov 14 2022, 16:10:14) [GCC 11.3.0]"
  },
  "orig_nbformat": 4,
  "vscode": {
   "interpreter": {
    "hash": "916dbcbb3f70747c44a77c7bcd40155683ae19c65e1c03b4aa3499c5328201f1"
   }
  }
 },
 "nbformat": 4,
 "nbformat_minor": 2
}
